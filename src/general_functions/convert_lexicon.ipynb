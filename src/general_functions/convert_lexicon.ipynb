{
 "cells": [
  {
   "cell_type": "code",
   "execution_count": 9,
   "metadata": {},
   "outputs": [
    {
     "name": "stdout",
     "output_type": "stream",
     "text": [
      "Successfully written to file.\n"
     ]
    }
   ],
   "source": [
    "import pandas as pd\n",
    "import json\n",
    "from general_functions.file_operations import write_json_file\n",
    "\n",
    "# items = [\"anger\", \"anticipation\", \"disgust\", \"fear\", \"joy\", \"negative\", \"positive\", \"sadness\", \"surprise\", \"trust\"]\n",
    "\n",
    "# for item in items:\n",
    "#     df = pd.read_csv(f\"lexicons/NRC_EmoLex_{item}.csv\")\n",
    "\n",
    "#     # Convert the dataframe to json\n",
    "#     data = json.loads(df.to_json(orient=\"records\"))\n",
    "\n",
    "#     # Convert to the desired format\n",
    "#     new_data = {record['word']: record['val'] for record in data}\n",
    "\n",
    "#     write_json_file(f\"lexicons/NRC_EmoLex_{item}.json\", new_data)\n",
    "\n",
    "df = pd.read_csv(f\"lexicons/NRC_VAD_valence.csv\")\n",
    "\n",
    "# Convert the dataframe to json\n",
    "data = json.loads(df.to_json(orient=\"records\"))\n",
    "\n",
    "# Convert to the desired format\n",
    "new_data = {record['word']: record['val'] for record in data}\n",
    "\n",
    "write_json_file(f\"lexicons/NRC_VAD_valence.json\", new_data)\n",
    "\n"
   ]
  }
 ],
 "metadata": {
  "kernelspec": {
   "display_name": ".venv",
   "language": "python",
   "name": "python3"
  },
  "language_info": {
   "codemirror_mode": {
    "name": "ipython",
    "version": 3
   },
   "file_extension": ".py",
   "mimetype": "text/x-python",
   "name": "python",
   "nbconvert_exporter": "python",
   "pygments_lexer": "ipython3",
   "version": "3.10.4"
  }
 },
 "nbformat": 4,
 "nbformat_minor": 2
}
