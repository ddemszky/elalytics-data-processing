{
 "cells": [
  {
   "cell_type": "code",
   "execution_count": 9,
   "metadata": {},
   "outputs": [
    {
     "name": "stdout",
     "output_type": "stream",
     "text": [
      "Successfully written to file.\n",
      "Successfully written to file.\n",
      "Successfully written to file.\n",
      "Successfully written to file.\n",
      "Successfully written to file.\n",
      "Successfully written to file.\n",
      "Successfully written to file.\n",
      "Successfully written to file.\n",
      "Successfully written to file.\n",
      "Successfully written to file.\n",
      "Successfully written to file.\n",
      "Successfully written to file.\n",
      "Successfully written to file.\n",
      "Successfully written to file.\n",
      "Successfully written to file.\n"
     ]
    }
   ],
   "source": [
    "from general_functions.file_operations import read_files_from_folder\n",
    "from general_functions.file_operations import read_txt_file\n",
    "from general_functions.file_operations import write_json_file\n",
    "import re\n",
    "chapters_folder = \"../data/chapters/\"\n",
    "chapters = read_files_from_folder(chapters_folder)\n",
    "word_counter ={}\n",
    "\n",
    "def convert_text_to_json(text):\n",
    "    json_data = []\n",
    "    lines = text.split('\\n')\n",
    "    for line in lines:\n",
    "        line = line.strip()\n",
    "        if ':' in line:\n",
    "            speaker, text = line.split(':', 1)\n",
    "            words = text.split(' ')\n",
    "            for word in words:\n",
    "                word = re.sub(r'\\W+', '', word.lower())\n",
    "                if word in word_counter:\n",
    "                    word_counter[word] += 1\n",
    "                else:\n",
    "                    word_counter[word] = 1\n",
    "\n",
    "            json_data.append({\n",
    "                \"isDialogue\": True,\n",
    "                \"content\": {\n",
    "                    \"speaker\": speaker.strip(),\n",
    "                    \"text\": text.strip()\n",
    "                }\n",
    "            })\n",
    "        else:\n",
    "            json_data.append({\n",
    "                \"isDialogue\": False,\n",
    "                \"content\": {\n",
    "                    \"text\": line\n",
    "                }\n",
    "            })\n",
    "    return json_data\n",
    "\n",
    "for chapter in chapters:\n",
    "    chapter_text = read_txt_file(chapters_folder+chapter)\n",
    "    # chapter_text = remove_speaker_names(chapter_text)\n",
    "    chapter_json = convert_text_to_json(chapter_text)\n",
    "    write_json_file(\"../data/json/\"+chapter.split('.')[0]+\".json\", chapter_json)\n",
    "\n",
    "\n",
    "#word counter sort and filter the stop words\n",
    "stop_words = [\"\",\"the\", \"a\", \"an\", \"and\", \"but\", \"if\", \"or\", \"because\", \"as\", \"what\", \"which\", \"this\", \"that\", \"these\", \"those\", \"then\", \"just\", \"so\", \"than\", \"such\", \"both\", \"through\", \"about\", \"for\", \"is\", \"of\", \"while\", \"during\", \"to\", \"What\", \"Which\", \"Is\", \"If\", \"While\", \"This\"]\n",
    "word_counter = {k: v for k, v in word_counter.items() if k not in stop_words}\n",
    "\n",
    "#sort the word counter\n",
    "word_counter = dict(sorted(word_counter.items(), key=lambda item: item[1], reverse=True))\n",
    "\n",
    "#write the word counter to a json file\n",
    "write_json_file(\"../data/word_counter.json\", word_counter)\n",
    "\n"
   ]
  }
 ],
 "metadata": {
  "kernelspec": {
   "display_name": ".venv",
   "language": "python",
   "name": "python3"
  },
  "language_info": {
   "codemirror_mode": {
    "name": "ipython",
    "version": 3
   },
   "file_extension": ".py",
   "mimetype": "text/x-python",
   "name": "python",
   "nbconvert_exporter": "python",
   "pygments_lexer": "ipython3",
   "version": "3.11.8"
  }
 },
 "nbformat": 4,
 "nbformat_minor": 2
}
