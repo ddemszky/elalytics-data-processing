{
 "cells": [
  {
   "cell_type": "code",
   "execution_count": 3,
   "metadata": {},
   "outputs": [
    {
     "name": "stdout",
     "output_type": "stream",
     "text": [
      "Starting ngram generation...\n",
      "Generated ngrams...\n",
      "Filtered ngrams...\n",
      "Computed frequency distribution...\n",
      "Processing ngram:  ('my', 'mother')\n",
      "Processing ngram:  ('the', 'minister')\n",
      "Processing ngram:  ('Christmas', 'Eve')\n",
      "Processing ngram:  ('of', 'the')\n",
      "Processing ngram:  ('to', 'be')\n",
      "Processing ngram:  ('my', 'father')\n",
      "Processing ngram:  ('was', 'not')\n",
      "Processing ngram:  ('For', 'Christmas')\n",
      "Processing ngram:  ('that', 'my')\n",
      "Processing ngram:  ('s', 'family')\n",
      "Processing ngram:  ('What', 'would')\n",
      "Processing ngram:  ('think', 'of')\n",
      "Processing ngram:  ('of', 'our')\n",
      "Processing ngram:  ('would', 'he')\n",
      "Processing ngram:  ('all', 'my')\n",
      "Processing ngram:  ('My', 'relatives')\n",
      "Processing ngram:  ('out', 'the')\n",
      "Processing ngram:  ('you', 'are')\n",
      "Processing ngram:  ('I', 'was')\n",
      "Processing ngram:  ('I', 'had')\n",
      "Generated output data...\n",
      "Successfully written to file.\n"
     ]
    }
   ],
   "source": [
    "from general_functions.chart_data.ngram_data import generate_ngramcloud_data\n",
    "generate_ngramcloud_data(\"../data/text.txt\", \"../data\", 2, 30)"
   ]
  }
 ],
 "metadata": {
  "kernelspec": {
   "display_name": ".venv",
   "language": "python",
   "name": "python3"
  },
  "language_info": {
   "codemirror_mode": {
    "name": "ipython",
    "version": 3
   },
   "file_extension": ".py",
   "mimetype": "text/x-python",
   "name": "python",
   "nbconvert_exporter": "python",
   "pygments_lexer": "ipython3",
   "version": "3.10.4"
  }
 },
 "nbformat": 4,
 "nbformat_minor": 2
}
