{
 "cells": [
  {
   "cell_type": "code",
   "execution_count": 1,
   "metadata": {},
   "outputs": [
    {
     "name": "stdout",
     "output_type": "stream",
     "text": [
      "Amy, your favorite,\n",
      "It’s a polite Chinese custom to show you are satisfied,\n",
      "You want to be the same as American girls on the outside.\n",
      "But inside you must always be Chinese.  You must be proud you are different.  Your only shame is to have shame.\n"
     ]
    }
   ],
   "source": [
    "from general_functions.file_operations import read_txt_file\n",
    "\n",
    "text = read_txt_file(\"../data/quoted_text.txt\")\n",
    "print(text)"
   ]
  },
  {
   "cell_type": "code",
   "execution_count": 4,
   "metadata": {},
   "outputs": [
    {
     "name": "stdout",
     "output_type": "stream",
     "text": [
      "[{'word': 'you', 'frequency': 5}, {'word': 'to', 'frequency': 3}, {'word': 'be', 'frequency': 3}, {'word': 'your', 'frequency': 2}, {'word': 'chinese', 'frequency': 2}, {'word': 'must', 'frequency': 2}, {'word': 'shame', 'frequency': 2}, {'word': 'amy', 'frequency': 1}, {'word': 'favorite', 'frequency': 1}, {'word': 'it’s', 'frequency': 1}, {'word': 'polite', 'frequency': 1}, {'word': 'custom', 'frequency': 1}, {'word': 'show', 'frequency': 1}, {'word': 'satisfied', 'frequency': 1}, {'word': 'want', 'frequency': 1}, {'word': 'same', 'frequency': 1}, {'word': 'american', 'frequency': 1}, {'word': 'girls', 'frequency': 1}, {'word': 'outside', 'frequency': 1}, {'word': 'but', 'frequency': 1}, {'word': 'inside', 'frequency': 1}, {'word': 'always', 'frequency': 1}, {'word': 'proud', 'frequency': 1}, {'word': 'different', 'frequency': 1}, {'word': 'only', 'frequency': 1}]\n"
     ]
    }
   ],
   "source": [
    "from collections import Counter\n",
    "\n",
    "words = text.replace(\".\", \"\").replace(\",\", \"\").lower().split()\n",
    "word_frequencies = Counter(words)\n",
    "stop_words = [\"a\", \"the\", \"are\", \"is\", \"in\", \"on\", \"it's\", \"as\", \"have\", \"has\",\"to\",\"be\"]\n",
    "word_frequencies = [\n",
    "    {\"word\": word, \"frequency\": count}\n",
    "    for word, count in word_frequencies.items()\n",
    "    if word not in stop_words\n",
    "]\n",
    "word_frequencies.sort(key=lambda x: x[\"frequency\"], reverse=True)\n",
    "\n",
    "print(word_frequencies)"
   ]
  },
  {
   "cell_type": "code",
   "execution_count": 3,
   "metadata": {},
   "outputs": [
    {
     "name": "stdout",
     "output_type": "stream",
     "text": [
      "Successfully written to file.\n"
     ]
    }
   ],
   "source": [
    "from general_functions.file_operations import write_json_file\n",
    "\n",
    "write_json_file( \"../data/word_frequencies.json\", word_frequencies)"
   ]
  }
 ],
 "metadata": {
  "kernelspec": {
   "display_name": ".venv",
   "language": "python",
   "name": "python3"
  },
  "language_info": {
   "codemirror_mode": {
    "name": "ipython",
    "version": 3
   },
   "file_extension": ".py",
   "mimetype": "text/x-python",
   "name": "python",
   "nbconvert_exporter": "python",
   "pygments_lexer": "ipython3",
   "version": "3.10.4"
  }
 },
 "nbformat": 4,
 "nbformat_minor": 2
}
