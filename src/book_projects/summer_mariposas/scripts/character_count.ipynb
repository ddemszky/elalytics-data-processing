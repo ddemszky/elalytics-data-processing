{
 "cells": [
  {
   "cell_type": "code",
   "execution_count": 14,
   "metadata": {},
   "outputs": [
    {
     "name": "stdout",
     "output_type": "stream",
     "text": [
      "Successfully written to file.\n"
     ]
    }
   ],
   "source": [
    "\n",
    "from general_functions.file_operations import read_files_from_folder\n",
    "from general_functions.file_operations import read_txt_file\n",
    "from general_functions.file_operations import write_json_file\n",
    "\n",
    "chapters_folder = \"../data/chapters/\"\n",
    "chapters = read_files_from_folder(chapters_folder)\n",
    "\n",
    "\n",
    "def search_for_word_and_count(word, text):\n",
    "    word_count = text.count(word)\n",
    "    return word_count\n",
    "\n",
    "characters =[\"Odilia\", \"Juanita\",\"Velia\",\"Delia\",\"Pita\"]\n",
    "character_count = []\n",
    "\n",
    "\n",
    "# remove .txt from the all chapter names\n",
    "def remove_txt(chapters):\n",
    "    chapters = [chapter.replace(\".txt\", \"\") for chapter in chapters]\n",
    "    return chapters\n",
    "\n",
    "for character in characters:\n",
    "    counts = []\n",
    "    for chapter in chapters:\n",
    "        chapter_text = read_txt_file(chapters_folder+chapter)\n",
    "        count = search_for_word_and_count(character, chapter_text)\n",
    "        counts.append(count)\n",
    "    data = {\"label\": character, \"data\": counts}\n",
    "    character_count.append(data)\n",
    "\n",
    "\n",
    "consolidated_data ={\"labels\":remove_txt(chapters), \"datasets\": character_count}\n",
    "\n",
    "write_json_file(\"../data/character_count.json\", consolidated_data)\n",
    "\n",
    "\n",
    "\n",
    "    \n",
    "    \n",
    "\n",
    "\n",
    "\n"
   ]
  },
  {
   "cell_type": "code",
   "execution_count": null,
   "metadata": {},
   "outputs": [],
   "source": []
  }
 ],
 "metadata": {
  "kernelspec": {
   "display_name": ".venv",
   "language": "python",
   "name": "python3"
  },
  "language_info": {
   "codemirror_mode": {
    "name": "ipython",
    "version": 3
   },
   "file_extension": ".py",
   "mimetype": "text/x-python",
   "name": "python",
   "nbconvert_exporter": "python",
   "pygments_lexer": "ipython3",
   "version": "3.11.8"
  }
 },
 "nbformat": 4,
 "nbformat_minor": 2
}
