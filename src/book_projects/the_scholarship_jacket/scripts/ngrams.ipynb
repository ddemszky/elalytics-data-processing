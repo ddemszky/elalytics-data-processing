{
 "cells": [
  {
   "cell_type": "code",
   "execution_count": 1,
   "metadata": {},
   "outputs": [
    {
     "name": "stdout",
     "output_type": "stream",
     "text": [
      "Starting ngram generation...\n",
      "Generated ngrams...\n",
      "Filtered ngrams...\n",
      "Computed frequency distribution...\n",
      "Processing ngram:  ('the', 'highest', 'grades', 'for')\n",
      "Processing ngram:  ('highest', 'grades', 'for', 'eight')\n",
      "Processing ngram:  ('grades', 'for', 'eight', 'years')\n",
      "Processing ngram:  ('I', 'was', 'going', 'to')\n",
      "Processing ngram:  ('was', 'going', 'to', 'be')\n",
      "Processing ngram:  ('the', 'rest', 'of', 'the')\n",
      "Processing ngram:  ('I', 'cried', 'on', 'the')\n",
      "Processing ngram:  ('cried', 'on', 'the', 'walk')\n",
      "Processing ngram:  ('on', 'the', 'walk', 'home')\n",
      "Processing ngram:  ('back', 'to', 'the', 'house')\n",
      "Processing ngram:  ('I', 'was', 'angry', 'with')\n",
      "Processing ngram:  ('I', 'gave', 'him', 'a')\n",
      "Processing ngram:  ('The', 'small', 'Texas', 'school')\n",
      "Processing ngram:  ('small', 'Texas', 'school', 'that')\n",
      "Processing ngram:  ('Texas', 'school', 'that', 'I')\n",
      "Processing ngram:  ('school', 'that', 'I', 'went')\n",
      "Processing ngram:  ('that', 'I', 'went', 'to')\n",
      "Processing ngram:  ('I', 'went', 'to', 'had')\n",
      "Processing ngram:  ('went', 'to', 'had', 'a')\n",
      "Processing ngram:  ('to', 'had', 'a', 'tradition')\n",
      "Processing ngram:  ('had', 'a', 'tradition', 'carried')\n",
      "Processing ngram:  ('a', 'tradition', 'carried', 'out')\n",
      "Processing ngram:  ('tradition', 'carried', 'out', 'every')\n",
      "Processing ngram:  ('carried', 'out', 'every', 'year')\n",
      "Processing ngram:  ('out', 'every', 'year', 'during')\n",
      "Processing ngram:  ('every', 'year', 'during', 'the')\n",
      "Processing ngram:  ('a', 'beautiful', 'gold', 'and')\n",
      "Processing ngram:  ('beautiful', 'gold', 'and', 'green')\n",
      "Processing ngram:  ('gold', 'and', 'green', 'jacket')\n",
      "Processing ngram:  ('was', 'awarded', 'to', 'the')\n",
      "Generated output data...\n",
      "Successfully written to file.\n"
     ]
    }
   ],
   "source": [
    "from general_functions.chart_data.ngram_data import generate_ngramcloud_data\n",
    "generate_ngramcloud_data(\"../data/text.txt\", \"../data\", 4, 30)"
   ]
  }
 ],
 "metadata": {
  "kernelspec": {
   "display_name": ".venv",
   "language": "python",
   "name": "python3"
  },
  "language_info": {
   "codemirror_mode": {
    "name": "ipython",
    "version": 3
   },
   "file_extension": ".py",
   "mimetype": "text/x-python",
   "name": "python",
   "nbconvert_exporter": "python",
   "pygments_lexer": "ipython3",
   "version": "3.10.4"
  }
 },
 "nbformat": 4,
 "nbformat_minor": 2
}
