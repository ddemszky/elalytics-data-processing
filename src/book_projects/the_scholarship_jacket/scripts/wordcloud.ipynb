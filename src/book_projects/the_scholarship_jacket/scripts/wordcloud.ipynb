{
 "cells": [
  {
   "cell_type": "code",
   "execution_count": 1,
   "metadata": {},
   "outputs": [
    {
     "name": "stdout",
     "output_type": "stream",
     "text": [
      "Reading input file...\n",
      "Tokenizing and filtering stopwords...\n",
      "Getting top 150 words...\n",
      "Translate words and format output process started...\n",
      "Processed 10 words...\n",
      "Processed 20 words...\n",
      "Processed 30 words...\n",
      "Processed 40 words...\n",
      "Processed 50 words...\n",
      "Processed 60 words...\n",
      "Processed 70 words...\n",
      "Processed 80 words...\n",
      "Processed 90 words...\n",
      "Processed 100 words...\n",
      "Processed 110 words...\n",
      "Processed 120 words...\n",
      "Processed 130 words...\n",
      "Processed 140 words...\n",
      "Processed 150 words...\n",
      "Writing to output file...\n",
      "Word cloud data saved to ../data/wordcloud.json\n"
     ]
    }
   ],
   "source": [
    "from general_functions.chart_data.wordcloud_data import generate_wordcloud_data\n",
    "\n",
    "input_file = \"../data/text.txt\"\n",
    "output_file = \"../data/wordcloud.json\"\n",
    "\n",
    "generate_wordcloud_data(input_file, output_file, 150)"
   ]
  }
 ],
 "metadata": {
  "kernelspec": {
   "display_name": ".venv",
   "language": "python",
   "name": "python3"
  },
  "language_info": {
   "codemirror_mode": {
    "name": "ipython",
    "version": 3
   },
   "file_extension": ".py",
   "mimetype": "text/x-python",
   "name": "python",
   "nbconvert_exporter": "python",
   "pygments_lexer": "ipython3",
   "version": "3.10.4"
  }
 },
 "nbformat": 4,
 "nbformat_minor": 2
}
