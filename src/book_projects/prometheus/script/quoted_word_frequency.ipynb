{
 "cells": [
  {
   "cell_type": "code",
   "execution_count": 1,
   "metadata": {},
   "outputs": [
    {
     "name": "stdout",
     "output_type": "stream",
     "text": [
      "[{'word': 'not', 'count': {'Prometheus': 2, 'Zeus': 5}, 'total_count': 7}, {'word': 'man', 'count': {'Prometheus': 3, 'Zeus': 4}, 'total_count': 7}, {'word': 'fire', 'count': {'Prometheus': 3, 'Zeus': 4}, 'total_count': 7}, {'word': 'happy', 'count': {'Prometheus': 2, 'Zeus': 4}, 'total_count': 6}, {'word': 'will', 'count': {'Prometheus': 2, 'Zeus': 4}, 'total_count': 6}, {'word': 'have', 'count': {'Prometheus': 2, 'Zeus': 3}, 'total_count': 5}, {'word': 'must', 'count': {'Prometheus': 3, 'Zeus': 1}, 'total_count': 4}, {'word': 'make', 'count': {'Prometheus': 2, 'Zeus': 2}, 'total_count': 4}, {'word': 'little', 'count': {'Prometheus': 2, 'Zeus': 2}, 'total_count': 4}, {'word': 'more', 'count': {'Prometheus': 1, 'Zeus': 3}, 'total_count': 4}, {'word': 'do', 'count': {'Prometheus': 1, 'Zeus': 2}, 'total_count': 3}, {'word': 'race', 'count': {'Prometheus': 2, 'Zeus': 1}, 'total_count': 3}, {'word': 'beasts', 'count': {'Prometheus': 3, 'Zeus': 0}, 'total_count': 3}, {'word': 'why', 'count': {'Prometheus': 2, 'Zeus': 1}, 'total_count': 3}, {'word': 'know', 'count': {'Prometheus': 0, 'Zeus': 3}, 'total_count': 3}, {'word': 'prometheus', 'count': {'Prometheus': 0, 'Zeus': 3}, 'total_count': 3}, {'word': 'called', 'count': {'Prometheus': 2, 'Zeus': 1}, 'total_count': 3}, {'word': 'use', 'count': {'Prometheus': 2, 'Zeus': 1}, 'total_count': 3}, {'word': 'interesting', 'count': {'Prometheus': 1, 'Zeus': 2}, 'total_count': 3}, {'word': 'water', 'count': {'Prometheus': 3, 'Zeus': 0}, 'total_count': 3}, {'word': 'i’ll', 'count': {'Prometheus': 0, 'Zeus': 3}, 'total_count': 3}, {'word': 'them', 'count': {'Prometheus': 0, 'Zeus': 3}, 'total_count': 3}, {'word': 'earth', 'count': {'Prometheus': 1, 'Zeus': 1}, 'total_count': 2}, {'word': 'ignorance', 'count': {'Prometheus': 1, 'Zeus': 1}, 'total_count': 2}, {'word': 'darkness', 'count': {'Prometheus': 1, 'Zeus': 1}, 'total_count': 2}, {'word': 'perhaps', 'count': {'Prometheus': 0, 'Zeus': 2}, 'total_count': 2}, {'word': 'call', 'count': {'Prometheus': 0, 'Zeus': 2}, 'total_count': 2}, {'word': 'now', 'count': {'Prometheus': 0, 'Zeus': 2}, 'total_count': 2}, {'word': 'remain', 'count': {'Prometheus': 0, 'Zeus': 2}, 'total_count': 2}, {'word': 'let', 'count': {'Prometheus': 0, 'Zeus': 2}, 'total_count': 2}, {'word': 'again', 'count': {'Prometheus': 1, 'Zeus': 1}, 'total_count': 2}, {'word': 'look', 'count': {'Prometheus': 2, 'Zeus': 0}, 'total_count': 2}, {'word': 'give', 'count': {'Prometheus': 1, 'Zeus': 1}, 'total_count': 2}, {'word': 'gift', 'count': {'Prometheus': 1, 'Zeus': 1}, 'total_count': 2}, {'word': 'does', 'count': {'Prometheus': 0, 'Zeus': 2}, 'total_count': 2}, {'word': 'separate', 'count': {'Prometheus': 2, 'Zeus': 0}, 'total_count': 2}, {'word': 'worship', 'count': {'Prometheus': 0, 'Zeus': 2}, 'total_count': 2}, {'word': 'pride', 'count': {'Prometheus': 0, 'Zeus': 2}, 'total_count': 2}, {'word': 'size', 'count': {'Prometheus': 1, 'Zeus': 1}, 'total_count': 2}, {'word': 'no', 'count': {'Prometheus': 0, 'Zeus': 2}, 'total_count': 2}, {'word': 'spirit', 'count': {'Prometheus': 2, 'Zeus': 0}, 'total_count': 2}]\n",
      "Successfully written to file.\n"
     ]
    }
   ],
   "source": [
    "from general_functions.file_operations import read_json_file\n",
    "from general_functions.file_operations import write_json_file\n",
    "\n",
    "file_location = \"../data/prometheus.json\"\n",
    "data = read_json_file(file_location)\n",
    "\n",
    "word_counter =[]\n",
    "\n",
    "\n",
    "def find_dialogue_within_quotes(text):\n",
    "    dialogues = []\n",
    "    while '“' in text and '”' in text:\n",
    "        start = text.index('“') + 1\n",
    "        end = text.index('”')\n",
    "        dialogues.append(text[start:end])\n",
    "        text = text[end+1:]\n",
    "    return dialogues\n",
    "\n",
    "def count_words_in_each_dialogue(dialogue, character):\n",
    "    words = dialogue.split(' ')\n",
    "\n",
    "    # make all the words lowercase and remove any punctuation\n",
    "    words = [word.lower().strip('.,!?') for word in words]\n",
    "    \n",
    "    for word in words:\n",
    "        # Check if word is already in word_counter\n",
    "        existing_word = next((item for item in word_counter if item[\"word\"] == word), None)\n",
    "        \n",
    "        if existing_word:\n",
    "            existing_word[\"count\"][character] += 1\n",
    "            existing_word[\"total_count\"] += 1\n",
    "\n",
    "        else:\n",
    "            # If word does not exist, add it to word_counter and increment the count for the character\n",
    "            word_counter.append({\"word\": word, \"count\": {\"Prometheus\": 0, \"Zeus\":0},\"total_count\": 0})\n",
    "            word_counter[-1][\"count\"][character] += 1\n",
    "            word_counter[-1][\"total_count\"] += 1\n",
    "     \n",
    "\n",
    "\n",
    "for dialogue in data:\n",
    "\n",
    "    quotes = find_dialogue_within_quotes(dialogue['text'])\n",
    "    for quote in quotes:\n",
    "        count_words_in_each_dialogue(quote, dialogue['character'])\n",
    "\n",
    "# filter out the stop words\n",
    "stop_words = [\"a\",\"i\",\"him\",\"me\",\"his\",\"my\",\"our\",\"we\",\"in\", \"an\", \"you\", \"he\", \"at\",\"too\",\"with\",\"on\",\"by\",\"shall\",\"they\",\"their\",\"until\", \"can\",\"too\", \"it\", \"your\", \"the\", \"and\", \"but\", \"if\", \"or\", \"because\", \"as\", \"what\", \"which\", \"this\", \"that\", \"these\", \"those\", \"then\", \"just\", \"so\", \"than\", \"such\", \"both\", \"through\", \"about\", \"for\", \"is\", \"of\", \"while\", \"during\", \"to\", \"What\", \"Which\", \"Is\", \"If\", \"While\", \"This\"]\n",
    "word_counter = [word for word in word_counter if word[\"word\"] not in stop_words]\n",
    "\n",
    "# sort the words by total count\n",
    "word_counter = sorted(word_counter, key=lambda x: x[\"total_count\"], reverse=True)\n",
    "\n",
    "# filter words where the total count is less than 2\n",
    "word_counter = [word for word in word_counter if word[\"total_count\"] > 1]\n",
    "\n",
    "print(word_counter)\n",
    "write_json_file(\"../data/quoted_word_counter.json\", word_counter)\n",
    "\n"
   ]
  }
 ],
 "metadata": {
  "kernelspec": {
   "display_name": ".venv",
   "language": "python",
   "name": "python3"
  },
  "language_info": {
   "codemirror_mode": {
    "name": "ipython",
    "version": 3
   },
   "file_extension": ".py",
   "mimetype": "text/x-python",
   "name": "python",
   "nbconvert_exporter": "python",
   "pygments_lexer": "ipython3",
   "version": "3.11.8"
  }
 },
 "nbformat": 4,
 "nbformat_minor": 2
}
